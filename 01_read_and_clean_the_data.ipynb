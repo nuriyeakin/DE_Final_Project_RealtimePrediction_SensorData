{
 "cells": [
  {
   "cell_type": "markdown",
   "id": "579f7dcb-0921-4ef9-a5e0-5bb68c112f86",
   "metadata": {},
   "source": [
    "## 1. Arrangements"
   ]
  },
  {
   "cell_type": "code",
   "execution_count": 2,
   "id": "bfe5f9e0-e6f9-4605-afea-60d2063c7ffc",
   "metadata": {
    "tags": []
   },
   "outputs": [],
   "source": [
    "from pyspark.sql import SparkSession, functions as F\n",
    "from pyspark.sql.types import StructType,StructField,DoubleType, StringType, IntegerType, DateType, ArrayType, FloatType, LongType, TimestampType\n"
   ]
  },
  {
   "cell_type": "code",
   "execution_count": 3,
   "id": "058ec705-e7cf-4848-8fa3-5821f5c76d2d",
   "metadata": {
    "tags": []
   },
   "outputs": [
    {
     "name": "stderr",
     "output_type": "stream",
     "text": [
      "WARNING: An illegal reflective access operation has occurred\n",
      "WARNING: Illegal reflective access by org.apache.spark.unsafe.Platform (file:/opt/manual/spark-3.1.1-bin-hadoop3.2/jars/spark-unsafe_2.12-3.1.1.jar) to constructor java.nio.DirectByteBuffer(long,int)\n",
      "WARNING: Please consider reporting this to the maintainers of org.apache.spark.unsafe.Platform\n",
      "WARNING: Use --illegal-access=warn to enable warnings of further illegal reflective access operations\n",
      "WARNING: All illegal access operations will be denied in a future release\n",
      "2023-05-13 14:41:05,819 WARN util.NativeCodeLoader: Unable to load native-hadoop library for your platform... using builtin-java classes where applicable\n",
      "Setting default log level to \"WARN\".\n",
      "To adjust logging level use sc.setLogLevel(newLevel). For SparkR, use setLogLevel(newLevel).\n"
     ]
    }
   ],
   "source": [
    "spark = SparkSession.builder \\\n",
    ".master(\"local[2]\") \\\n",
    ".appName(\"Define Custom Schema\") \\\n",
    ".getOrCreate()"
   ]
  },
  {
   "cell_type": "markdown",
   "id": "50f27981-56f3-48bd-bc28-371c3065380c",
   "metadata": {
    "tags": []
   },
   "source": [
    "### Download the Dataset"
   ]
  },
  {
   "cell_type": "code",
   "execution_count": 5,
   "id": "a3d01af8-847f-4620-a70a-c75cbca83dbb",
   "metadata": {
    "tags": []
   },
   "outputs": [
    {
     "name": "stdout",
     "output_type": "stream",
     "text": [
      "--2023-05-13 14:43:57--  https://github.com/erkansirin78/datasets/raw/master/sensors_instrumented_in_an_office_building_dataset.zip\n",
      "Resolving github.com (github.com)... 140.82.121.3\n",
      "Connecting to github.com (github.com)|140.82.121.3|:443... connected.\n",
      "HTTP request sent, awaiting response... 302 Found\n",
      "Location: https://raw.githubusercontent.com/erkansirin78/datasets/master/sensors_instrumented_in_an_office_building_dataset.zip [following]\n",
      "--2023-05-13 14:43:57--  https://raw.githubusercontent.com/erkansirin78/datasets/master/sensors_instrumented_in_an_office_building_dataset.zip\n",
      "Resolving raw.githubusercontent.com (raw.githubusercontent.com)... 185.199.111.133, 185.199.110.133, 185.199.109.133, ...\n",
      "Connecting to raw.githubusercontent.com (raw.githubusercontent.com)|185.199.111.133|:443... connected.\n",
      "HTTP request sent, awaiting response... 200 OK\n",
      "Length: 78299066 (75M) [application/zip]\n",
      "Saving to: ‘/home/train/datasets/sensors_instrumented_in_an_office_building_dataset.zip’\n",
      "\n",
      "100%[======================================>] 78,299,066  4.37MB/s   in 20s    \n",
      "\n",
      "2023-05-13 14:44:20 (3.83 MB/s) - ‘/home/train/datasets/sensors_instrumented_in_an_office_building_dataset.zip’ saved [78299066/78299066]\n",
      "\n"
     ]
    }
   ],
   "source": [
    "#! wget -P /home/train/datasets/ \\\n",
    "# https://github.com/erkansirin78/datasets/raw/master/sensors_instrumented_in_an_office_building_dataset.zip"
   ]
  },
  {
   "cell_type": "markdown",
   "id": "7ddd3e2b-3114-4f9f-9caa-a7b8a3e87cc1",
   "metadata": {},
   "source": [
    "### Reading Data"
   ]
  },
  {
   "cell_type": "code",
   "execution_count": null,
   "id": "265c0bea-4394-4b66-9cc7-bbea6b863133",
   "metadata": {
    "tags": []
   },
   "outputs": [],
   "source": [
    "programmatical_schema = StructType([\n",
    "    StructField(\"ts_min_bignt\",LongType(),True),\n",
    "    StructField(\"value\",FloatType(),True),\n",
    "    StructField(\"file_name\",StringType(),True),\n",
    "    StructField(\"room\",StringType(),True),\n",
    "    StructField(\"file_path\",StringType(),True),\n",
    "    StructField(\"file_name_type\",StringType(),True),\n",
    "    StructField(\"event_ts_min\",TimestampType(),True),\n",
    "])\n",
    "    "
   ]
  },
  {
   "cell_type": "code",
   "execution_count": 24,
   "id": "ec967577-cac9-4bff-9c35-1bf39bcae736",
   "metadata": {
    "tags": []
   },
   "outputs": [
    {
     "name": "stderr",
     "output_type": "stream",
     "text": [
      "                                                                                \r"
     ]
    }
   ],
   "source": [
    "df = spark.read \\\n",
    ".option(\"sep\",\",\") \\\n",
    ".schema(programmatical_schema) \\\n",
    ".csv(\"file:///home/train/datasets/KETI/*\") \\\n",
    ".withColumn(\"file_path\",F.input_file_name()) \\\n",
    ".withColumn(\"room\",F.element_at(F.reverse(F.split(F.col(\"file_path\"),\"/\")),2)) \\\n",
    ".withColumn(\"file_name\",F.element_at(F.reverse(F.split(F.col(\"file_path\"),\"/\")),1)) \\\n",
    ".withColumn(\"file_name_type\",F.split(F.col(\"file_name\"),\"\\\\.\").getItem(0)) \\\n",
    ".filter(\"file_name_type not in ('README')\") \\\n",
    ".withColumn(\"event_ts_min\",F.from_unixtime(F.col(\"ts_min_bignt\")))"
   ]
  },
  {
   "cell_type": "code",
   "execution_count": 25,
   "id": "d7d1e66b-c813-4f03-9043-d6218b058e4e",
   "metadata": {
    "tags": []
   },
   "outputs": [
    {
     "data": {
      "text/html": [
       "<div>\n",
       "<style scoped>\n",
       "    .dataframe tbody tr th:only-of-type {\n",
       "        vertical-align: middle;\n",
       "    }\n",
       "\n",
       "    .dataframe tbody tr th {\n",
       "        vertical-align: top;\n",
       "    }\n",
       "\n",
       "    .dataframe thead th {\n",
       "        text-align: right;\n",
       "    }\n",
       "</style>\n",
       "<table border=\"1\" class=\"dataframe\">\n",
       "  <thead>\n",
       "    <tr style=\"text-align: right;\">\n",
       "      <th></th>\n",
       "      <th>ts_min_bignt</th>\n",
       "      <th>value</th>\n",
       "      <th>file_name</th>\n",
       "      <th>room</th>\n",
       "      <th>file_path</th>\n",
       "      <th>file_name_type</th>\n",
       "      <th>event_ts_min</th>\n",
       "    </tr>\n",
       "  </thead>\n",
       "  <tbody>\n",
       "    <tr>\n",
       "      <th>0</th>\n",
       "      <td>1377299103</td>\n",
       "      <td>2287.0</td>\n",
       "      <td>light.csv</td>\n",
       "      <td>668</td>\n",
       "      <td>file:/home/train/datasets/KETI/668/light.csv</td>\n",
       "      <td>light</td>\n",
       "      <td>2013-08-24 02:05:03</td>\n",
       "    </tr>\n",
       "    <tr>\n",
       "      <th>1</th>\n",
       "      <td>1377299105</td>\n",
       "      <td>1977.0</td>\n",
       "      <td>light.csv</td>\n",
       "      <td>668</td>\n",
       "      <td>file:/home/train/datasets/KETI/668/light.csv</td>\n",
       "      <td>light</td>\n",
       "      <td>2013-08-24 02:05:05</td>\n",
       "    </tr>\n",
       "    <tr>\n",
       "      <th>2</th>\n",
       "      <td>1377299126</td>\n",
       "      <td>2208.0</td>\n",
       "      <td>light.csv</td>\n",
       "      <td>668</td>\n",
       "      <td>file:/home/train/datasets/KETI/668/light.csv</td>\n",
       "      <td>light</td>\n",
       "      <td>2013-08-24 02:05:26</td>\n",
       "    </tr>\n",
       "    <tr>\n",
       "      <th>3</th>\n",
       "      <td>1377299130</td>\n",
       "      <td>2267.0</td>\n",
       "      <td>light.csv</td>\n",
       "      <td>668</td>\n",
       "      <td>file:/home/train/datasets/KETI/668/light.csv</td>\n",
       "      <td>light</td>\n",
       "      <td>2013-08-24 02:05:30</td>\n",
       "    </tr>\n",
       "    <tr>\n",
       "      <th>4</th>\n",
       "      <td>1377299133</td>\n",
       "      <td>2097.0</td>\n",
       "      <td>light.csv</td>\n",
       "      <td>668</td>\n",
       "      <td>file:/home/train/datasets/KETI/668/light.csv</td>\n",
       "      <td>light</td>\n",
       "      <td>2013-08-24 02:05:33</td>\n",
       "    </tr>\n",
       "    <tr>\n",
       "      <th>5</th>\n",
       "      <td>1377299138</td>\n",
       "      <td>2111.0</td>\n",
       "      <td>light.csv</td>\n",
       "      <td>668</td>\n",
       "      <td>file:/home/train/datasets/KETI/668/light.csv</td>\n",
       "      <td>light</td>\n",
       "      <td>2013-08-24 02:05:38</td>\n",
       "    </tr>\n",
       "    <tr>\n",
       "      <th>6</th>\n",
       "      <td>1377299143</td>\n",
       "      <td>2257.0</td>\n",
       "      <td>light.csv</td>\n",
       "      <td>668</td>\n",
       "      <td>file:/home/train/datasets/KETI/668/light.csv</td>\n",
       "      <td>light</td>\n",
       "      <td>2013-08-24 02:05:43</td>\n",
       "    </tr>\n",
       "    <tr>\n",
       "      <th>7</th>\n",
       "      <td>1377299148</td>\n",
       "      <td>2200.0</td>\n",
       "      <td>light.csv</td>\n",
       "      <td>668</td>\n",
       "      <td>file:/home/train/datasets/KETI/668/light.csv</td>\n",
       "      <td>light</td>\n",
       "      <td>2013-08-24 02:05:48</td>\n",
       "    </tr>\n",
       "    <tr>\n",
       "      <th>8</th>\n",
       "      <td>1377299153</td>\n",
       "      <td>2164.0</td>\n",
       "      <td>light.csv</td>\n",
       "      <td>668</td>\n",
       "      <td>file:/home/train/datasets/KETI/668/light.csv</td>\n",
       "      <td>light</td>\n",
       "      <td>2013-08-24 02:05:53</td>\n",
       "    </tr>\n",
       "    <tr>\n",
       "      <th>9</th>\n",
       "      <td>1377299158</td>\n",
       "      <td>2183.0</td>\n",
       "      <td>light.csv</td>\n",
       "      <td>668</td>\n",
       "      <td>file:/home/train/datasets/KETI/668/light.csv</td>\n",
       "      <td>light</td>\n",
       "      <td>2013-08-24 02:05:58</td>\n",
       "    </tr>\n",
       "  </tbody>\n",
       "</table>\n",
       "</div>"
      ],
      "text/plain": [
       "   ts_min_bignt   value  file_name room  \\\n",
       "0    1377299103  2287.0  light.csv  668   \n",
       "1    1377299105  1977.0  light.csv  668   \n",
       "2    1377299126  2208.0  light.csv  668   \n",
       "3    1377299130  2267.0  light.csv  668   \n",
       "4    1377299133  2097.0  light.csv  668   \n",
       "5    1377299138  2111.0  light.csv  668   \n",
       "6    1377299143  2257.0  light.csv  668   \n",
       "7    1377299148  2200.0  light.csv  668   \n",
       "8    1377299153  2164.0  light.csv  668   \n",
       "9    1377299158  2183.0  light.csv  668   \n",
       "\n",
       "                                      file_path file_name_type  \\\n",
       "0  file:/home/train/datasets/KETI/668/light.csv          light   \n",
       "1  file:/home/train/datasets/KETI/668/light.csv          light   \n",
       "2  file:/home/train/datasets/KETI/668/light.csv          light   \n",
       "3  file:/home/train/datasets/KETI/668/light.csv          light   \n",
       "4  file:/home/train/datasets/KETI/668/light.csv          light   \n",
       "5  file:/home/train/datasets/KETI/668/light.csv          light   \n",
       "6  file:/home/train/datasets/KETI/668/light.csv          light   \n",
       "7  file:/home/train/datasets/KETI/668/light.csv          light   \n",
       "8  file:/home/train/datasets/KETI/668/light.csv          light   \n",
       "9  file:/home/train/datasets/KETI/668/light.csv          light   \n",
       "\n",
       "          event_ts_min  \n",
       "0  2013-08-24 02:05:03  \n",
       "1  2013-08-24 02:05:05  \n",
       "2  2013-08-24 02:05:26  \n",
       "3  2013-08-24 02:05:30  \n",
       "4  2013-08-24 02:05:33  \n",
       "5  2013-08-24 02:05:38  \n",
       "6  2013-08-24 02:05:43  \n",
       "7  2013-08-24 02:05:48  \n",
       "8  2013-08-24 02:05:53  \n",
       "9  2013-08-24 02:05:58  "
      ]
     },
     "execution_count": 25,
     "metadata": {},
     "output_type": "execute_result"
    }
   ],
   "source": [
    "df.limit(10).toPandas()"
   ]
  },
  {
   "cell_type": "code",
   "execution_count": 14,
   "id": "f97245d0-4c63-489e-b1af-ff2787e44a84",
   "metadata": {
    "tags": []
   },
   "outputs": [
    {
     "name": "stderr",
     "output_type": "stream",
     "text": [
      "                                                                                \r"
     ]
    },
    {
     "data": {
      "text/plain": [
       "29882394"
      ]
     },
     "execution_count": 14,
     "metadata": {},
     "output_type": "execute_result"
    }
   ],
   "source": [
    "df.count()"
   ]
  },
  {
   "cell_type": "code",
   "execution_count": 16,
   "id": "2a9cc6aa-4e13-4eae-be12-8cb7c3b328f5",
   "metadata": {
    "tags": []
   },
   "outputs": [
    {
     "name": "stderr",
     "output_type": "stream",
     "text": [
      "                                                                                \r"
     ]
    },
    {
     "data": {
      "text/html": [
       "<div>\n",
       "<style scoped>\n",
       "    .dataframe tbody tr th:only-of-type {\n",
       "        vertical-align: middle;\n",
       "    }\n",
       "\n",
       "    .dataframe tbody tr th {\n",
       "        vertical-align: top;\n",
       "    }\n",
       "\n",
       "    .dataframe thead th {\n",
       "        text-align: right;\n",
       "    }\n",
       "</style>\n",
       "<table border=\"1\" class=\"dataframe\">\n",
       "  <thead>\n",
       "    <tr style=\"text-align: right;\">\n",
       "      <th></th>\n",
       "      <th>max(event_ts_min)</th>\n",
       "      <th>min(event_ts_min)</th>\n",
       "    </tr>\n",
       "  </thead>\n",
       "  <tbody>\n",
       "    <tr>\n",
       "      <th>0</th>\n",
       "      <td>2013-09-01 09:58:59</td>\n",
       "      <td>2013-08-23 18:00:00</td>\n",
       "    </tr>\n",
       "  </tbody>\n",
       "</table>\n",
       "</div>"
      ],
      "text/plain": [
       "     max(event_ts_min)    min(event_ts_min)\n",
       "0  2013-09-01 09:58:59  2013-08-23 18:00:00"
      ]
     },
     "execution_count": 16,
     "metadata": {},
     "output_type": "execute_result"
    }
   ],
   "source": [
    "df.selectExpr(\"MAX(event_ts_min)\", \"MIN(event_ts_min)\").limit(5).toPandas()"
   ]
  },
  {
   "cell_type": "code",
   "execution_count": 35,
   "id": "bc392489-59e5-42ca-807c-fbec9e691212",
   "metadata": {
    "tags": []
   },
   "outputs": [],
   "source": [
    "#1er Dakikalık groupby yaparak ortalamalara göre valueları al\n",
    "df2= df.groupby(\"file_name_type\",\"room\",F.window(\"event_ts_min\",\"1 minutes\")) \\\n",
    ".agg(F.avg(\"value\").alias(\"value\")) \\\n",
    ".select(F.to_timestamp(F.col(\"window.start\"), 'MM/dd/yyy HH:mm:ss a').alias(\"event_ts_min\"),F.unix_timestamp(F.col(\"window.start\"), 'MM/dd/yyyy hh:mm:ss a').alias(\"ts_min_bignt\"), F.col(\"file_name_type\"),F.col(\"room\"),F.col(\"value\"))"
   ]
  },
  {
   "cell_type": "code",
   "execution_count": 36,
   "id": "100cbf0e-4292-4883-9a2c-31bb46bfa824",
   "metadata": {
    "tags": []
   },
   "outputs": [
    {
     "name": "stderr",
     "output_type": "stream",
     "text": [
      "                                                                                \r"
     ]
    },
    {
     "data": {
      "text/html": [
       "<div>\n",
       "<style scoped>\n",
       "    .dataframe tbody tr th:only-of-type {\n",
       "        vertical-align: middle;\n",
       "    }\n",
       "\n",
       "    .dataframe tbody tr th {\n",
       "        vertical-align: top;\n",
       "    }\n",
       "\n",
       "    .dataframe thead th {\n",
       "        text-align: right;\n",
       "    }\n",
       "</style>\n",
       "<table border=\"1\" class=\"dataframe\">\n",
       "  <thead>\n",
       "    <tr style=\"text-align: right;\">\n",
       "      <th></th>\n",
       "      <th>event_ts_min</th>\n",
       "      <th>ts_min_bignt</th>\n",
       "      <th>file_name_type</th>\n",
       "      <th>room</th>\n",
       "      <th>value</th>\n",
       "    </tr>\n",
       "  </thead>\n",
       "  <tbody>\n",
       "    <tr>\n",
       "      <th>0</th>\n",
       "      <td>2013-08-24 07:23:00</td>\n",
       "      <td>1377318180</td>\n",
       "      <td>light</td>\n",
       "      <td>668</td>\n",
       "      <td>2137.916667</td>\n",
       "    </tr>\n",
       "    <tr>\n",
       "      <th>1</th>\n",
       "      <td>2013-08-24 07:28:00</td>\n",
       "      <td>1377318480</td>\n",
       "      <td>light</td>\n",
       "      <td>668</td>\n",
       "      <td>2212.416667</td>\n",
       "    </tr>\n",
       "    <tr>\n",
       "      <th>2</th>\n",
       "      <td>2013-08-24 08:17:00</td>\n",
       "      <td>1377321420</td>\n",
       "      <td>light</td>\n",
       "      <td>668</td>\n",
       "      <td>2135.333333</td>\n",
       "    </tr>\n",
       "    <tr>\n",
       "      <th>3</th>\n",
       "      <td>2013-08-24 12:11:00</td>\n",
       "      <td>1377335460</td>\n",
       "      <td>light</td>\n",
       "      <td>668</td>\n",
       "      <td>2172.250000</td>\n",
       "    </tr>\n",
       "    <tr>\n",
       "      <th>4</th>\n",
       "      <td>2013-08-24 12:45:00</td>\n",
       "      <td>1377337500</td>\n",
       "      <td>light</td>\n",
       "      <td>668</td>\n",
       "      <td>2228.166667</td>\n",
       "    </tr>\n",
       "    <tr>\n",
       "      <th>5</th>\n",
       "      <td>2013-08-24 15:34:00</td>\n",
       "      <td>1377347640</td>\n",
       "      <td>light</td>\n",
       "      <td>668</td>\n",
       "      <td>2186.083333</td>\n",
       "    </tr>\n",
       "    <tr>\n",
       "      <th>6</th>\n",
       "      <td>2013-08-24 16:23:00</td>\n",
       "      <td>1377350580</td>\n",
       "      <td>light</td>\n",
       "      <td>668</td>\n",
       "      <td>2142.916667</td>\n",
       "    </tr>\n",
       "    <tr>\n",
       "      <th>7</th>\n",
       "      <td>2013-08-24 17:42:00</td>\n",
       "      <td>1377355320</td>\n",
       "      <td>light</td>\n",
       "      <td>668</td>\n",
       "      <td>2224.750000</td>\n",
       "    </tr>\n",
       "    <tr>\n",
       "      <th>8</th>\n",
       "      <td>2013-08-24 19:44:00</td>\n",
       "      <td>1377362640</td>\n",
       "      <td>light</td>\n",
       "      <td>668</td>\n",
       "      <td>2185.916667</td>\n",
       "    </tr>\n",
       "    <tr>\n",
       "      <th>9</th>\n",
       "      <td>2013-08-24 20:57:00</td>\n",
       "      <td>1377367020</td>\n",
       "      <td>light</td>\n",
       "      <td>668</td>\n",
       "      <td>2281.500000</td>\n",
       "    </tr>\n",
       "  </tbody>\n",
       "</table>\n",
       "</div>"
      ],
      "text/plain": [
       "         event_ts_min  ts_min_bignt file_name_type room        value\n",
       "0 2013-08-24 07:23:00    1377318180          light  668  2137.916667\n",
       "1 2013-08-24 07:28:00    1377318480          light  668  2212.416667\n",
       "2 2013-08-24 08:17:00    1377321420          light  668  2135.333333\n",
       "3 2013-08-24 12:11:00    1377335460          light  668  2172.250000\n",
       "4 2013-08-24 12:45:00    1377337500          light  668  2228.166667\n",
       "5 2013-08-24 15:34:00    1377347640          light  668  2186.083333\n",
       "6 2013-08-24 16:23:00    1377350580          light  668  2142.916667\n",
       "7 2013-08-24 17:42:00    1377355320          light  668  2224.750000\n",
       "8 2013-08-24 19:44:00    1377362640          light  668  2185.916667\n",
       "9 2013-08-24 20:57:00    1377367020          light  668  2281.500000"
      ]
     },
     "execution_count": 36,
     "metadata": {},
     "output_type": "execute_result"
    }
   ],
   "source": [
    "df2.limit(10).toPandas()"
   ]
  },
  {
   "cell_type": "code",
   "execution_count": null,
   "id": "163b2b09-2d36-4e26-931e-dc141d7cb405",
   "metadata": {},
   "outputs": [],
   "source": [
    "# pivot ile filename typeı sütun olarak al \n",
    "df3 = df2.groupby('event_ts_min','ts_min_bignt','room').pivot(\"file_name_type\").mean(\"value\")"
   ]
  },
  {
   "cell_type": "code",
   "execution_count": 38,
   "id": "39953e9e-81aa-4a27-a88d-6f5b8b1f59d8",
   "metadata": {
    "tags": []
   },
   "outputs": [
    {
     "name": "stderr",
     "output_type": "stream",
     "text": [
      "                                                                                \r"
     ]
    },
    {
     "data": {
      "text/html": [
       "<div>\n",
       "<style scoped>\n",
       "    .dataframe tbody tr th:only-of-type {\n",
       "        vertical-align: middle;\n",
       "    }\n",
       "\n",
       "    .dataframe tbody tr th {\n",
       "        vertical-align: top;\n",
       "    }\n",
       "\n",
       "    .dataframe thead th {\n",
       "        text-align: right;\n",
       "    }\n",
       "</style>\n",
       "<table border=\"1\" class=\"dataframe\">\n",
       "  <thead>\n",
       "    <tr style=\"text-align: right;\">\n",
       "      <th></th>\n",
       "      <th>event_ts_min</th>\n",
       "      <th>ts_min_bignt</th>\n",
       "      <th>room</th>\n",
       "      <th>co2</th>\n",
       "      <th>humidity</th>\n",
       "      <th>light</th>\n",
       "      <th>pir</th>\n",
       "      <th>temperature</th>\n",
       "    </tr>\n",
       "  </thead>\n",
       "  <tbody>\n",
       "    <tr>\n",
       "      <th>0</th>\n",
       "      <td>2013-08-26 12:32:00</td>\n",
       "      <td>1377509520</td>\n",
       "      <td>562</td>\n",
       "      <td>238.083333</td>\n",
       "      <td>61.282499</td>\n",
       "      <td>2.416667</td>\n",
       "      <td>0.0</td>\n",
       "      <td>21.912500</td>\n",
       "    </tr>\n",
       "    <tr>\n",
       "      <th>1</th>\n",
       "      <td>2013-08-30 12:22:00</td>\n",
       "      <td>1377854520</td>\n",
       "      <td>776</td>\n",
       "      <td>518.250000</td>\n",
       "      <td>58.419999</td>\n",
       "      <td>4.400000</td>\n",
       "      <td>0.0</td>\n",
       "      <td>23.419000</td>\n",
       "    </tr>\n",
       "    <tr>\n",
       "      <th>2</th>\n",
       "      <td>2013-08-31 01:12:00</td>\n",
       "      <td>1377900720</td>\n",
       "      <td>722</td>\n",
       "      <td>437.250000</td>\n",
       "      <td>55.070001</td>\n",
       "      <td>4.916667</td>\n",
       "      <td>0.0</td>\n",
       "      <td>23.231666</td>\n",
       "    </tr>\n",
       "    <tr>\n",
       "      <th>3</th>\n",
       "      <td>2013-08-28 08:40:00</td>\n",
       "      <td>1377668400</td>\n",
       "      <td>415</td>\n",
       "      <td>484.250000</td>\n",
       "      <td>57.557501</td>\n",
       "      <td>3.750000</td>\n",
       "      <td>0.0</td>\n",
       "      <td>23.237500</td>\n",
       "    </tr>\n",
       "    <tr>\n",
       "      <th>4</th>\n",
       "      <td>2013-08-28 08:34:00</td>\n",
       "      <td>1377668040</td>\n",
       "      <td>746</td>\n",
       "      <td>514.833333</td>\n",
       "      <td>60.747501</td>\n",
       "      <td>5.000000</td>\n",
       "      <td>0.0</td>\n",
       "      <td>22.293333</td>\n",
       "    </tr>\n",
       "    <tr>\n",
       "      <th>5</th>\n",
       "      <td>2013-08-26 03:10:00</td>\n",
       "      <td>1377475800</td>\n",
       "      <td>562</td>\n",
       "      <td>227.583333</td>\n",
       "      <td>63.600000</td>\n",
       "      <td>3.416667</td>\n",
       "      <td>0.0</td>\n",
       "      <td>22.054166</td>\n",
       "    </tr>\n",
       "    <tr>\n",
       "      <th>6</th>\n",
       "      <td>2013-08-30 20:29:00</td>\n",
       "      <td>1377883740</td>\n",
       "      <td>717</td>\n",
       "      <td>444.000000</td>\n",
       "      <td>61.295000</td>\n",
       "      <td>124.000000</td>\n",
       "      <td>0.0</td>\n",
       "      <td>22.504167</td>\n",
       "    </tr>\n",
       "    <tr>\n",
       "      <th>7</th>\n",
       "      <td>2013-08-26 15:43:00</td>\n",
       "      <td>1377520980</td>\n",
       "      <td>734</td>\n",
       "      <td>291.250000</td>\n",
       "      <td>54.875000</td>\n",
       "      <td>5.583333</td>\n",
       "      <td>0.0</td>\n",
       "      <td>23.279167</td>\n",
       "    </tr>\n",
       "    <tr>\n",
       "      <th>8</th>\n",
       "      <td>2013-08-26 14:18:00</td>\n",
       "      <td>1377515880</td>\n",
       "      <td>562</td>\n",
       "      <td>232.000000</td>\n",
       "      <td>60.862501</td>\n",
       "      <td>2.416667</td>\n",
       "      <td>0.0</td>\n",
       "      <td>21.916667</td>\n",
       "    </tr>\n",
       "    <tr>\n",
       "      <th>9</th>\n",
       "      <td>2013-08-28 10:53:00</td>\n",
       "      <td>1377676380</td>\n",
       "      <td>448</td>\n",
       "      <td>362.500000</td>\n",
       "      <td>57.805001</td>\n",
       "      <td>4.416667</td>\n",
       "      <td>0.0</td>\n",
       "      <td>23.288334</td>\n",
       "    </tr>\n",
       "    <tr>\n",
       "      <th>10</th>\n",
       "      <td>2013-08-29 19:09:00</td>\n",
       "      <td>1377792540</td>\n",
       "      <td>424</td>\n",
       "      <td>398.833333</td>\n",
       "      <td>58.340001</td>\n",
       "      <td>3.500000</td>\n",
       "      <td>0.0</td>\n",
       "      <td>23.516667</td>\n",
       "    </tr>\n",
       "    <tr>\n",
       "      <th>11</th>\n",
       "      <td>2013-08-29 10:58:00</td>\n",
       "      <td>1377763080</td>\n",
       "      <td>415</td>\n",
       "      <td>471.500000</td>\n",
       "      <td>59.827502</td>\n",
       "      <td>17.833333</td>\n",
       "      <td>0.0</td>\n",
       "      <td>23.275834</td>\n",
       "    </tr>\n",
       "    <tr>\n",
       "      <th>12</th>\n",
       "      <td>2013-08-30 23:24:00</td>\n",
       "      <td>1377894240</td>\n",
       "      <td>423</td>\n",
       "      <td>454.500000</td>\n",
       "      <td>59.830002</td>\n",
       "      <td>3.916667</td>\n",
       "      <td>0.0</td>\n",
       "      <td>22.891666</td>\n",
       "    </tr>\n",
       "    <tr>\n",
       "      <th>13</th>\n",
       "      <td>2013-08-25 09:20:00</td>\n",
       "      <td>1377411600</td>\n",
       "      <td>724</td>\n",
       "      <td>182.916667</td>\n",
       "      <td>55.362501</td>\n",
       "      <td>4.833333</td>\n",
       "      <td>0.0</td>\n",
       "      <td>23.397500</td>\n",
       "    </tr>\n",
       "    <tr>\n",
       "      <th>14</th>\n",
       "      <td>2013-08-29 18:57:00</td>\n",
       "      <td>1377791820</td>\n",
       "      <td>452</td>\n",
       "      <td>348.166667</td>\n",
       "      <td>54.225000</td>\n",
       "      <td>2.833333</td>\n",
       "      <td>0.0</td>\n",
       "      <td>22.979166</td>\n",
       "    </tr>\n",
       "    <tr>\n",
       "      <th>15</th>\n",
       "      <td>2013-08-28 01:31:00</td>\n",
       "      <td>1377642660</td>\n",
       "      <td>417</td>\n",
       "      <td>NaN</td>\n",
       "      <td>NaN</td>\n",
       "      <td>NaN</td>\n",
       "      <td>0.0</td>\n",
       "      <td>NaN</td>\n",
       "    </tr>\n",
       "    <tr>\n",
       "      <th>16</th>\n",
       "      <td>2013-08-29 09:24:00</td>\n",
       "      <td>1377757440</td>\n",
       "      <td>752</td>\n",
       "      <td>393.416667</td>\n",
       "      <td>48.941666</td>\n",
       "      <td>4.333333</td>\n",
       "      <td>0.0</td>\n",
       "      <td>26.320000</td>\n",
       "    </tr>\n",
       "    <tr>\n",
       "      <th>17</th>\n",
       "      <td>2013-08-27 17:10:00</td>\n",
       "      <td>1377612600</td>\n",
       "      <td>668</td>\n",
       "      <td>319.250000</td>\n",
       "      <td>58.320000</td>\n",
       "      <td>2137.916667</td>\n",
       "      <td>0.0</td>\n",
       "      <td>21.015834</td>\n",
       "    </tr>\n",
       "    <tr>\n",
       "      <th>18</th>\n",
       "      <td>2013-08-24 10:15:00</td>\n",
       "      <td>1377328500</td>\n",
       "      <td>454</td>\n",
       "      <td>318.583333</td>\n",
       "      <td>51.983333</td>\n",
       "      <td>3.500000</td>\n",
       "      <td>0.0</td>\n",
       "      <td>23.459999</td>\n",
       "    </tr>\n",
       "    <tr>\n",
       "      <th>19</th>\n",
       "      <td>2013-08-29 07:46:00</td>\n",
       "      <td>1377751560</td>\n",
       "      <td>554</td>\n",
       "      <td>485.250000</td>\n",
       "      <td>61.342500</td>\n",
       "      <td>27.416667</td>\n",
       "      <td>0.0</td>\n",
       "      <td>22.871667</td>\n",
       "    </tr>\n",
       "  </tbody>\n",
       "</table>\n",
       "</div>"
      ],
      "text/plain": [
       "          event_ts_min  ts_min_bignt room         co2   humidity        light  \\\n",
       "0  2013-08-26 12:32:00    1377509520  562  238.083333  61.282499     2.416667   \n",
       "1  2013-08-30 12:22:00    1377854520  776  518.250000  58.419999     4.400000   \n",
       "2  2013-08-31 01:12:00    1377900720  722  437.250000  55.070001     4.916667   \n",
       "3  2013-08-28 08:40:00    1377668400  415  484.250000  57.557501     3.750000   \n",
       "4  2013-08-28 08:34:00    1377668040  746  514.833333  60.747501     5.000000   \n",
       "5  2013-08-26 03:10:00    1377475800  562  227.583333  63.600000     3.416667   \n",
       "6  2013-08-30 20:29:00    1377883740  717  444.000000  61.295000   124.000000   \n",
       "7  2013-08-26 15:43:00    1377520980  734  291.250000  54.875000     5.583333   \n",
       "8  2013-08-26 14:18:00    1377515880  562  232.000000  60.862501     2.416667   \n",
       "9  2013-08-28 10:53:00    1377676380  448  362.500000  57.805001     4.416667   \n",
       "10 2013-08-29 19:09:00    1377792540  424  398.833333  58.340001     3.500000   \n",
       "11 2013-08-29 10:58:00    1377763080  415  471.500000  59.827502    17.833333   \n",
       "12 2013-08-30 23:24:00    1377894240  423  454.500000  59.830002     3.916667   \n",
       "13 2013-08-25 09:20:00    1377411600  724  182.916667  55.362501     4.833333   \n",
       "14 2013-08-29 18:57:00    1377791820  452  348.166667  54.225000     2.833333   \n",
       "15 2013-08-28 01:31:00    1377642660  417         NaN        NaN          NaN   \n",
       "16 2013-08-29 09:24:00    1377757440  752  393.416667  48.941666     4.333333   \n",
       "17 2013-08-27 17:10:00    1377612600  668  319.250000  58.320000  2137.916667   \n",
       "18 2013-08-24 10:15:00    1377328500  454  318.583333  51.983333     3.500000   \n",
       "19 2013-08-29 07:46:00    1377751560  554  485.250000  61.342500    27.416667   \n",
       "\n",
       "    pir  temperature  \n",
       "0   0.0    21.912500  \n",
       "1   0.0    23.419000  \n",
       "2   0.0    23.231666  \n",
       "3   0.0    23.237500  \n",
       "4   0.0    22.293333  \n",
       "5   0.0    22.054166  \n",
       "6   0.0    22.504167  \n",
       "7   0.0    23.279167  \n",
       "8   0.0    21.916667  \n",
       "9   0.0    23.288334  \n",
       "10  0.0    23.516667  \n",
       "11  0.0    23.275834  \n",
       "12  0.0    22.891666  \n",
       "13  0.0    23.397500  \n",
       "14  0.0    22.979166  \n",
       "15  0.0          NaN  \n",
       "16  0.0    26.320000  \n",
       "17  0.0    21.015834  \n",
       "18  0.0    23.459999  \n",
       "19  0.0    22.871667  "
      ]
     },
     "execution_count": 38,
     "metadata": {},
     "output_type": "execute_result"
    }
   ],
   "source": [
    "df3.limit(20).toPandas()"
   ]
  },
  {
   "cell_type": "code",
   "execution_count": 39,
   "id": "df6bd513-03b9-4602-8d12-d1c6e979e41c",
   "metadata": {
    "tags": []
   },
   "outputs": [
    {
     "name": "stderr",
     "output_type": "stream",
     "text": [
      "                                                                                \r"
     ]
    },
    {
     "data": {
      "text/plain": [
       "602667"
      ]
     },
     "execution_count": 39,
     "metadata": {},
     "output_type": "execute_result"
    }
   ],
   "source": [
    "df3.count()"
   ]
  },
  {
   "cell_type": "markdown",
   "id": "0c1466e8-b712-4c97-86e4-daadecdd3f42",
   "metadata": {},
   "source": [
    "### Clear Null Values"
   ]
  },
  {
   "cell_type": "code",
   "execution_count": 40,
   "id": "75a67b3f-d85d-4e3c-9a48-b2525ed84d75",
   "metadata": {
    "tags": []
   },
   "outputs": [
    {
     "name": "stderr",
     "output_type": "stream",
     "text": [
      "[Stage 35:=====================================================>(199 + 1) / 200]\r"
     ]
    },
    {
     "name": "stdout",
     "output_type": "stream",
     "text": [
      "+-------------------+------------+----+----+-----------------+------------------+-------+------------------+\n",
      "|       event_ts_min|ts_min_bignt|room| co2|         humidity|             light|    pir|       temperature|\n",
      "+-------------------+------------+----+----+-----------------+------------------+-------+------------------+\n",
      "|2013-08-28 01:31:00|  1377642660| 417|null|             null|              null|    0.0|              null|\n",
      "|2013-09-01 08:58:00|  1378015080| 562|null|             null|              null|    0.0|              null|\n",
      "|2013-09-01 05:44:00|  1378003440| 648|null|             null|              null|    0.0|              null|\n",
      "|2013-09-01 04:25:00|  1377998700| 721|null|             null|              null|    0.0|              null|\n",
      "|2013-09-01 03:13:00|  1377994380| 664|null|             null|              null|    0.0|              null|\n",
      "|2013-09-01 01:50:00|  1377989400| 454|null|             null|              null|    0.0|              null|\n",
      "|2013-08-31 22:35:00|  1377977700| 421|null|             null|              null|    0.0|              null|\n",
      "|2013-08-27 23:40:00|  1377636000| 446|null|             null|              null|    0.0|              null|\n",
      "|2013-09-01 03:50:00|  1377996600| 421|null|             null|              null|    0.0|              null|\n",
      "|2013-09-01 04:23:00|  1377998580| 734|null|             null|              null|29.9375|              null|\n",
      "|2013-09-01 05:51:00|  1378003860| 413|null|             null|              null|    0.0|              null|\n",
      "|2013-09-01 03:35:00|  1377995700|621D|null|             null|              null|    0.0|              null|\n",
      "|2013-08-24 05:19:00|  1377310740| 562|null|54.72999954223633|              2.75|    0.0|22.435833772023518|\n",
      "|2013-09-01 01:44:00|  1377989040| 446|null|             null|              null|    0.0|              null|\n",
      "|2013-09-01 02:32:00|  1377991920| 726|null|             null|              null|    0.0|              null|\n",
      "|2013-09-01 05:51:00|  1378003860| 446|null|             null|              null|    0.0|              null|\n",
      "|2013-08-24 17:57:00|  1377356220| 562|null|57.29750029246012|2.9166666666666665|    0.0|21.663333257039387|\n",
      "|2013-08-28 02:06:00|  1377644760| 510|null|             null|              null|    0.0|              null|\n",
      "|2013-08-24 09:42:00|  1377326520| 562|null|55.88499959309896|2.6666666666666665|    0.0|22.093333562215168|\n",
      "|2013-09-01 06:50:00|  1378007400| 723|null|             null|              null|    0.0|              null|\n",
      "+-------------------+------------+----+----+-----------------+------------------+-------+------------------+\n",
      "only showing top 20 rows\n",
      "\n"
     ]
    },
    {
     "name": "stderr",
     "output_type": "stream",
     "text": [
      "                                                                                \r"
     ]
    }
   ],
   "source": [
    "df3.where(\"co2 is null\").show()"
   ]
  },
  {
   "cell_type": "code",
   "execution_count": 41,
   "id": "07ae6ddd-f49d-4f2e-9f40-729dc0440f6a",
   "metadata": {
    "tags": []
   },
   "outputs": [],
   "source": [
    "df_test= df3.where(\"ts_min_bignt == '1377299100' and room == '413' \")"
   ]
  },
  {
   "cell_type": "code",
   "execution_count": 42,
   "id": "5fcb73ee-346c-4cb5-ae0f-438c71db3f0c",
   "metadata": {
    "tags": []
   },
   "outputs": [
    {
     "name": "stderr",
     "output_type": "stream",
     "text": [
      "                                                                                \r"
     ]
    },
    {
     "data": {
      "text/html": [
       "<div>\n",
       "<style scoped>\n",
       "    .dataframe tbody tr th:only-of-type {\n",
       "        vertical-align: middle;\n",
       "    }\n",
       "\n",
       "    .dataframe tbody tr th {\n",
       "        vertical-align: top;\n",
       "    }\n",
       "\n",
       "    .dataframe thead th {\n",
       "        text-align: right;\n",
       "    }\n",
       "</style>\n",
       "<table border=\"1\" class=\"dataframe\">\n",
       "  <thead>\n",
       "    <tr style=\"text-align: right;\">\n",
       "      <th></th>\n",
       "      <th>event_ts_min</th>\n",
       "      <th>ts_min_bignt</th>\n",
       "      <th>room</th>\n",
       "      <th>co2</th>\n",
       "      <th>humidity</th>\n",
       "      <th>light</th>\n",
       "      <th>pir</th>\n",
       "      <th>temperature</th>\n",
       "    </tr>\n",
       "  </thead>\n",
       "  <tbody>\n",
       "    <tr>\n",
       "      <th>0</th>\n",
       "      <td>2013-08-24 02:05:00</td>\n",
       "      <td>1377299100</td>\n",
       "      <td>413</td>\n",
       "      <td>494.727273</td>\n",
       "      <td>45.330001</td>\n",
       "      <td>96.555556</td>\n",
       "      <td>0.0</td>\n",
       "      <td>23.927778</td>\n",
       "    </tr>\n",
       "  </tbody>\n",
       "</table>\n",
       "</div>"
      ],
      "text/plain": [
       "         event_ts_min  ts_min_bignt room         co2   humidity      light  \\\n",
       "0 2013-08-24 02:05:00    1377299100  413  494.727273  45.330001  96.555556   \n",
       "\n",
       "   pir  temperature  \n",
       "0  0.0    23.927778  "
      ]
     },
     "execution_count": 42,
     "metadata": {},
     "output_type": "execute_result"
    }
   ],
   "source": [
    "df_test.limit(5).toPandas()"
   ]
  },
  {
   "cell_type": "code",
   "execution_count": 43,
   "id": "03475c4d-9b1e-4ecd-8889-294a8d1dc025",
   "metadata": {
    "tags": []
   },
   "outputs": [
    {
     "name": "stdout",
     "output_type": "stream",
     "text": [
      "root\n",
      " |-- event_ts_min: timestamp (nullable = true)\n",
      " |-- ts_min_bignt: long (nullable = true)\n",
      " |-- room: string (nullable = true)\n",
      " |-- co2: double (nullable = true)\n",
      " |-- humidity: double (nullable = true)\n",
      " |-- light: double (nullable = true)\n",
      " |-- pir: double (nullable = true)\n",
      " |-- temperature: double (nullable = true)\n",
      "\n"
     ]
    }
   ],
   "source": [
    "df3.printSchema()"
   ]
  },
  {
   "cell_type": "code",
   "execution_count": 44,
   "id": "1e608aec-e30b-4eb3-8ebc-b1f51e1ec928",
   "metadata": {
    "tags": []
   },
   "outputs": [],
   "source": [
    "df4 = df3.select(F.col(\"event_ts_min\"),\n",
    "                 F.col(\"ts_min_bignt\"),\n",
    "                 F.col(\"room\"),\n",
    "                 F.coalesce(F.col(\"co2\"),F.lit(0)).alias(\"co2\"),\n",
    "                 F.coalesce(F.col(\"light\"),F.lit(0)).alias(\"light\"),\n",
    "                 F.coalesce(F.col(\"temperature\"),F.lit(0)).alias(\"temperature\"),\n",
    "                 F.coalesce(F.col(\"humidity\"),F.lit(0)).alias(\"humidity\"),\n",
    "                 F.coalesce(F.col(\"pir\"),F.lit(0)).alias(\"pir\")\n",
    "                )\n",
    "                 "
   ]
  },
  {
   "cell_type": "code",
   "execution_count": 45,
   "id": "d0030b1c-8dae-49dc-b07e-2898b66c0a21",
   "metadata": {
    "tags": []
   },
   "outputs": [
    {
     "name": "stdout",
     "output_type": "stream",
     "text": [
      "root\n",
      " |-- event_ts_min: timestamp (nullable = true)\n",
      " |-- ts_min_bignt: long (nullable = true)\n",
      " |-- room: string (nullable = true)\n",
      " |-- co2: double (nullable = false)\n",
      " |-- light: double (nullable = false)\n",
      " |-- temperature: double (nullable = false)\n",
      " |-- humidity: double (nullable = false)\n",
      " |-- pir: double (nullable = false)\n",
      "\n"
     ]
    }
   ],
   "source": [
    "df4.printSchema()"
   ]
  },
  {
   "cell_type": "code",
   "execution_count": 46,
   "id": "828bbd2b-6706-4dcb-a203-97df7646e40c",
   "metadata": {
    "tags": []
   },
   "outputs": [
    {
     "name": "stderr",
     "output_type": "stream",
     "text": [
      "                                                                                \r"
     ]
    },
    {
     "data": {
      "text/plain": [
       "602667"
      ]
     },
     "execution_count": 46,
     "metadata": {},
     "output_type": "execute_result"
    }
   ],
   "source": [
    "df4.count()"
   ]
  },
  {
   "cell_type": "code",
   "execution_count": 47,
   "id": "fbda4beb-c040-409e-8a87-cd75c1cd7a03",
   "metadata": {
    "tags": []
   },
   "outputs": [
    {
     "name": "stderr",
     "output_type": "stream",
     "text": [
      "                                                                                \r"
     ]
    },
    {
     "data": {
      "text/html": [
       "<div>\n",
       "<style scoped>\n",
       "    .dataframe tbody tr th:only-of-type {\n",
       "        vertical-align: middle;\n",
       "    }\n",
       "\n",
       "    .dataframe tbody tr th {\n",
       "        vertical-align: top;\n",
       "    }\n",
       "\n",
       "    .dataframe thead th {\n",
       "        text-align: right;\n",
       "    }\n",
       "</style>\n",
       "<table border=\"1\" class=\"dataframe\">\n",
       "  <thead>\n",
       "    <tr style=\"text-align: right;\">\n",
       "      <th></th>\n",
       "      <th>max(event_ts_min)</th>\n",
       "      <th>min(event_ts_min)</th>\n",
       "    </tr>\n",
       "  </thead>\n",
       "  <tbody>\n",
       "    <tr>\n",
       "      <th>0</th>\n",
       "      <td>2013-09-01 09:58:00</td>\n",
       "      <td>2013-08-23 18:00:00</td>\n",
       "    </tr>\n",
       "  </tbody>\n",
       "</table>\n",
       "</div>"
      ],
      "text/plain": [
       "    max(event_ts_min)   min(event_ts_min)\n",
       "0 2013-09-01 09:58:00 2013-08-23 18:00:00"
      ]
     },
     "execution_count": 47,
     "metadata": {},
     "output_type": "execute_result"
    }
   ],
   "source": [
    "df4.selectExpr(\"MAX(event_ts_min)\", \"MIN(event_ts_min)\").limit(5).toPandas()"
   ]
  },
  {
   "cell_type": "code",
   "execution_count": 48,
   "id": "d951a426-81c9-4343-b90c-2ec9fc689fbf",
   "metadata": {
    "tags": []
   },
   "outputs": [],
   "source": [
    "df_test2= df4.where(\"ts_min_bignt == '1377299100' and room == '413' \")"
   ]
  },
  {
   "cell_type": "code",
   "execution_count": 49,
   "id": "83b5685c-0f7e-4a14-9f7a-1347b33b25e1",
   "metadata": {
    "tags": []
   },
   "outputs": [
    {
     "name": "stderr",
     "output_type": "stream",
     "text": [
      "                                                                                \r"
     ]
    },
    {
     "data": {
      "text/html": [
       "<div>\n",
       "<style scoped>\n",
       "    .dataframe tbody tr th:only-of-type {\n",
       "        vertical-align: middle;\n",
       "    }\n",
       "\n",
       "    .dataframe tbody tr th {\n",
       "        vertical-align: top;\n",
       "    }\n",
       "\n",
       "    .dataframe thead th {\n",
       "        text-align: right;\n",
       "    }\n",
       "</style>\n",
       "<table border=\"1\" class=\"dataframe\">\n",
       "  <thead>\n",
       "    <tr style=\"text-align: right;\">\n",
       "      <th></th>\n",
       "      <th>event_ts_min</th>\n",
       "      <th>ts_min_bignt</th>\n",
       "      <th>room</th>\n",
       "      <th>co2</th>\n",
       "      <th>light</th>\n",
       "      <th>temperature</th>\n",
       "      <th>humidity</th>\n",
       "      <th>pir</th>\n",
       "    </tr>\n",
       "  </thead>\n",
       "  <tbody>\n",
       "    <tr>\n",
       "      <th>0</th>\n",
       "      <td>2013-08-24 02:05:00</td>\n",
       "      <td>1377299100</td>\n",
       "      <td>413</td>\n",
       "      <td>494.727273</td>\n",
       "      <td>96.555556</td>\n",
       "      <td>23.927778</td>\n",
       "      <td>45.330001</td>\n",
       "      <td>0.0</td>\n",
       "    </tr>\n",
       "  </tbody>\n",
       "</table>\n",
       "</div>"
      ],
      "text/plain": [
       "         event_ts_min  ts_min_bignt room         co2      light  temperature  \\\n",
       "0 2013-08-24 02:05:00    1377299100  413  494.727273  96.555556    23.927778   \n",
       "\n",
       "    humidity  pir  \n",
       "0  45.330001  0.0  "
      ]
     },
     "execution_count": 49,
     "metadata": {},
     "output_type": "execute_result"
    }
   ],
   "source": [
    "df_test2.limit(5).toPandas()"
   ]
  },
  {
   "cell_type": "markdown",
   "id": "6f67091a-f08a-42ab-b97d-ee475bec522f",
   "metadata": {},
   "source": [
    "### Write as csv file"
   ]
  },
  {
   "cell_type": "code",
   "execution_count": 50,
   "id": "4a3e4b9e-b912-4840-b41c-7f1d33a432ba",
   "metadata": {
    "tags": []
   },
   "outputs": [
    {
     "name": "stderr",
     "output_type": "stream",
     "text": [
      "                                                                                \r"
     ]
    }
   ],
   "source": [
    "df4.repartition(1).write.csv(\"file:///home/train/project_sensors_output/\",header=True)"
   ]
  },
  {
   "cell_type": "markdown",
   "id": "6d6487ef-1056-474e-8a29-bb49957d23c5",
   "metadata": {},
   "source": [
    "### Check the values"
   ]
  },
  {
   "cell_type": "code",
   "execution_count": 52,
   "id": "f4508ce1-56db-41c1-9b57-c32adb45fded",
   "metadata": {
    "tags": []
   },
   "outputs": [
    {
     "name": "stderr",
     "output_type": "stream",
     "text": [
      "                                                                                \r"
     ]
    }
   ],
   "source": [
    "df_source = spark.read \\\n",
    ".format(\"csv\") \\\n",
    ".option(\"sep\",\",\") \\\n",
    ".option(\"header\",True) \\\n",
    ".option(\"inferSchema\",True) \\\n",
    ".load(\"file:///home/train/project_sensors_output/part-00000-a2de2d7d-e0dd-4ecd-a201-a783d8d55f40-c000.csv\")\n"
   ]
  },
  {
   "cell_type": "code",
   "execution_count": 51,
   "id": "e6a527a3-ca36-4473-8a27-93c67b733e59",
   "metadata": {
    "tags": []
   },
   "outputs": [],
   "source": [
    "programmaticall_schema_2 = StructType([\n",
    "    StructField(\"event_ts_min\",TimestampType(),True),\n",
    "    StructField(\"ts_min_bignt\",LongType(),True),\n",
    "    StructField(\"room\",StringType(),True),\n",
    "    StructField(\"co2\",FloatType(),True),\n",
    "    StructField(\"light\",FloatType(),True),\n",
    "    StructField(\"temp\",FloatType(),True),\n",
    "    StructField(\"humidity\",FloatType(),True),\n",
    "    StructField(\"pir\",FloatType(),True)\n",
    "])"
   ]
  },
  {
   "cell_type": "code",
   "execution_count": 53,
   "id": "9715f34e-16a6-433e-ab15-8b64bf22f78d",
   "metadata": {
    "tags": []
   },
   "outputs": [
    {
     "data": {
      "text/html": [
       "<div>\n",
       "<style scoped>\n",
       "    .dataframe tbody tr th:only-of-type {\n",
       "        vertical-align: middle;\n",
       "    }\n",
       "\n",
       "    .dataframe tbody tr th {\n",
       "        vertical-align: top;\n",
       "    }\n",
       "\n",
       "    .dataframe thead th {\n",
       "        text-align: right;\n",
       "    }\n",
       "</style>\n",
       "<table border=\"1\" class=\"dataframe\">\n",
       "  <thead>\n",
       "    <tr style=\"text-align: right;\">\n",
       "      <th></th>\n",
       "      <th>event_ts_min</th>\n",
       "      <th>ts_min_bignt</th>\n",
       "      <th>room</th>\n",
       "      <th>co2</th>\n",
       "      <th>light</th>\n",
       "      <th>temperature</th>\n",
       "      <th>humidity</th>\n",
       "      <th>pir</th>\n",
       "    </tr>\n",
       "  </thead>\n",
       "  <tbody>\n",
       "    <tr>\n",
       "      <th>0</th>\n",
       "      <td>2013-08-26 12:32:00</td>\n",
       "      <td>1377509520</td>\n",
       "      <td>562</td>\n",
       "      <td>238.083333</td>\n",
       "      <td>2.416667</td>\n",
       "      <td>21.912500</td>\n",
       "      <td>61.282499</td>\n",
       "      <td>0.0</td>\n",
       "    </tr>\n",
       "    <tr>\n",
       "      <th>1</th>\n",
       "      <td>2013-08-30 12:22:00</td>\n",
       "      <td>1377854520</td>\n",
       "      <td>776</td>\n",
       "      <td>518.250000</td>\n",
       "      <td>4.400000</td>\n",
       "      <td>23.419000</td>\n",
       "      <td>58.419999</td>\n",
       "      <td>0.0</td>\n",
       "    </tr>\n",
       "    <tr>\n",
       "      <th>2</th>\n",
       "      <td>2013-08-31 01:12:00</td>\n",
       "      <td>1377900720</td>\n",
       "      <td>722</td>\n",
       "      <td>437.250000</td>\n",
       "      <td>4.916667</td>\n",
       "      <td>23.231666</td>\n",
       "      <td>55.070001</td>\n",
       "      <td>0.0</td>\n",
       "    </tr>\n",
       "    <tr>\n",
       "      <th>3</th>\n",
       "      <td>2013-08-28 08:40:00</td>\n",
       "      <td>1377668400</td>\n",
       "      <td>415</td>\n",
       "      <td>484.250000</td>\n",
       "      <td>3.750000</td>\n",
       "      <td>23.237500</td>\n",
       "      <td>57.557501</td>\n",
       "      <td>0.0</td>\n",
       "    </tr>\n",
       "    <tr>\n",
       "      <th>4</th>\n",
       "      <td>2013-08-28 08:34:00</td>\n",
       "      <td>1377668040</td>\n",
       "      <td>746</td>\n",
       "      <td>514.833333</td>\n",
       "      <td>5.000000</td>\n",
       "      <td>22.293333</td>\n",
       "      <td>60.747501</td>\n",
       "      <td>0.0</td>\n",
       "    </tr>\n",
       "    <tr>\n",
       "      <th>5</th>\n",
       "      <td>2013-08-26 03:10:00</td>\n",
       "      <td>1377475800</td>\n",
       "      <td>562</td>\n",
       "      <td>227.583333</td>\n",
       "      <td>3.416667</td>\n",
       "      <td>22.054166</td>\n",
       "      <td>63.600000</td>\n",
       "      <td>0.0</td>\n",
       "    </tr>\n",
       "    <tr>\n",
       "      <th>6</th>\n",
       "      <td>2013-08-30 20:29:00</td>\n",
       "      <td>1377883740</td>\n",
       "      <td>717</td>\n",
       "      <td>444.000000</td>\n",
       "      <td>124.000000</td>\n",
       "      <td>22.504167</td>\n",
       "      <td>61.295000</td>\n",
       "      <td>0.0</td>\n",
       "    </tr>\n",
       "    <tr>\n",
       "      <th>7</th>\n",
       "      <td>2013-08-26 15:43:00</td>\n",
       "      <td>1377520980</td>\n",
       "      <td>734</td>\n",
       "      <td>291.250000</td>\n",
       "      <td>5.583333</td>\n",
       "      <td>23.279167</td>\n",
       "      <td>54.875000</td>\n",
       "      <td>0.0</td>\n",
       "    </tr>\n",
       "    <tr>\n",
       "      <th>8</th>\n",
       "      <td>2013-08-26 14:18:00</td>\n",
       "      <td>1377515880</td>\n",
       "      <td>562</td>\n",
       "      <td>232.000000</td>\n",
       "      <td>2.416667</td>\n",
       "      <td>21.916667</td>\n",
       "      <td>60.862501</td>\n",
       "      <td>0.0</td>\n",
       "    </tr>\n",
       "    <tr>\n",
       "      <th>9</th>\n",
       "      <td>2013-08-28 10:53:00</td>\n",
       "      <td>1377676380</td>\n",
       "      <td>448</td>\n",
       "      <td>362.500000</td>\n",
       "      <td>4.416667</td>\n",
       "      <td>23.288334</td>\n",
       "      <td>57.805001</td>\n",
       "      <td>0.0</td>\n",
       "    </tr>\n",
       "    <tr>\n",
       "      <th>10</th>\n",
       "      <td>2013-08-29 19:09:00</td>\n",
       "      <td>1377792540</td>\n",
       "      <td>424</td>\n",
       "      <td>398.833333</td>\n",
       "      <td>3.500000</td>\n",
       "      <td>23.516667</td>\n",
       "      <td>58.340001</td>\n",
       "      <td>0.0</td>\n",
       "    </tr>\n",
       "    <tr>\n",
       "      <th>11</th>\n",
       "      <td>2013-08-29 10:58:00</td>\n",
       "      <td>1377763080</td>\n",
       "      <td>415</td>\n",
       "      <td>471.500000</td>\n",
       "      <td>17.833333</td>\n",
       "      <td>23.275834</td>\n",
       "      <td>59.827502</td>\n",
       "      <td>0.0</td>\n",
       "    </tr>\n",
       "    <tr>\n",
       "      <th>12</th>\n",
       "      <td>2013-08-30 23:24:00</td>\n",
       "      <td>1377894240</td>\n",
       "      <td>423</td>\n",
       "      <td>454.500000</td>\n",
       "      <td>3.916667</td>\n",
       "      <td>22.891666</td>\n",
       "      <td>59.830002</td>\n",
       "      <td>0.0</td>\n",
       "    </tr>\n",
       "    <tr>\n",
       "      <th>13</th>\n",
       "      <td>2013-08-25 09:20:00</td>\n",
       "      <td>1377411600</td>\n",
       "      <td>724</td>\n",
       "      <td>182.916667</td>\n",
       "      <td>4.833333</td>\n",
       "      <td>23.397500</td>\n",
       "      <td>55.362501</td>\n",
       "      <td>0.0</td>\n",
       "    </tr>\n",
       "    <tr>\n",
       "      <th>14</th>\n",
       "      <td>2013-08-29 18:57:00</td>\n",
       "      <td>1377791820</td>\n",
       "      <td>452</td>\n",
       "      <td>348.166667</td>\n",
       "      <td>2.833333</td>\n",
       "      <td>22.979166</td>\n",
       "      <td>54.225000</td>\n",
       "      <td>0.0</td>\n",
       "    </tr>\n",
       "    <tr>\n",
       "      <th>15</th>\n",
       "      <td>2013-08-28 01:31:00</td>\n",
       "      <td>1377642660</td>\n",
       "      <td>417</td>\n",
       "      <td>0.000000</td>\n",
       "      <td>0.000000</td>\n",
       "      <td>0.000000</td>\n",
       "      <td>0.000000</td>\n",
       "      <td>0.0</td>\n",
       "    </tr>\n",
       "    <tr>\n",
       "      <th>16</th>\n",
       "      <td>2013-08-29 09:24:00</td>\n",
       "      <td>1377757440</td>\n",
       "      <td>752</td>\n",
       "      <td>393.416667</td>\n",
       "      <td>4.333333</td>\n",
       "      <td>26.320000</td>\n",
       "      <td>48.941666</td>\n",
       "      <td>0.0</td>\n",
       "    </tr>\n",
       "    <tr>\n",
       "      <th>17</th>\n",
       "      <td>2013-08-27 17:10:00</td>\n",
       "      <td>1377612600</td>\n",
       "      <td>668</td>\n",
       "      <td>319.250000</td>\n",
       "      <td>2137.916667</td>\n",
       "      <td>21.015834</td>\n",
       "      <td>58.320000</td>\n",
       "      <td>0.0</td>\n",
       "    </tr>\n",
       "    <tr>\n",
       "      <th>18</th>\n",
       "      <td>2013-08-24 10:15:00</td>\n",
       "      <td>1377328500</td>\n",
       "      <td>454</td>\n",
       "      <td>318.583333</td>\n",
       "      <td>3.500000</td>\n",
       "      <td>23.459999</td>\n",
       "      <td>51.983333</td>\n",
       "      <td>0.0</td>\n",
       "    </tr>\n",
       "    <tr>\n",
       "      <th>19</th>\n",
       "      <td>2013-08-29 07:46:00</td>\n",
       "      <td>1377751560</td>\n",
       "      <td>554</td>\n",
       "      <td>485.250000</td>\n",
       "      <td>27.416667</td>\n",
       "      <td>22.871667</td>\n",
       "      <td>61.342500</td>\n",
       "      <td>0.0</td>\n",
       "    </tr>\n",
       "    <tr>\n",
       "      <th>20</th>\n",
       "      <td>2013-08-26 03:57:00</td>\n",
       "      <td>1377478620</td>\n",
       "      <td>722</td>\n",
       "      <td>326.666667</td>\n",
       "      <td>4.500000</td>\n",
       "      <td>22.723333</td>\n",
       "      <td>56.332499</td>\n",
       "      <td>0.0</td>\n",
       "    </tr>\n",
       "    <tr>\n",
       "      <th>21</th>\n",
       "      <td>2013-08-25 14:42:00</td>\n",
       "      <td>1377430920</td>\n",
       "      <td>724</td>\n",
       "      <td>178.750000</td>\n",
       "      <td>5.166667</td>\n",
       "      <td>23.351667</td>\n",
       "      <td>57.552501</td>\n",
       "      <td>0.0</td>\n",
       "    </tr>\n",
       "    <tr>\n",
       "      <th>22</th>\n",
       "      <td>2013-08-25 03:21:00</td>\n",
       "      <td>1377390060</td>\n",
       "      <td>726</td>\n",
       "      <td>381.666667</td>\n",
       "      <td>2.583333</td>\n",
       "      <td>23.908333</td>\n",
       "      <td>51.622500</td>\n",
       "      <td>0.0</td>\n",
       "    </tr>\n",
       "    <tr>\n",
       "      <th>23</th>\n",
       "      <td>2013-08-26 06:57:00</td>\n",
       "      <td>1377489420</td>\n",
       "      <td>621</td>\n",
       "      <td>414.250000</td>\n",
       "      <td>6.166667</td>\n",
       "      <td>24.662500</td>\n",
       "      <td>63.254999</td>\n",
       "      <td>0.0</td>\n",
       "    </tr>\n",
       "    <tr>\n",
       "      <th>24</th>\n",
       "      <td>2013-08-30 17:22:00</td>\n",
       "      <td>1377872520</td>\n",
       "      <td>513</td>\n",
       "      <td>332.166667</td>\n",
       "      <td>5.000000</td>\n",
       "      <td>22.512500</td>\n",
       "      <td>62.472500</td>\n",
       "      <td>0.0</td>\n",
       "    </tr>\n",
       "    <tr>\n",
       "      <th>25</th>\n",
       "      <td>2013-08-30 15:47:00</td>\n",
       "      <td>1377866820</td>\n",
       "      <td>446</td>\n",
       "      <td>485.916667</td>\n",
       "      <td>3.166667</td>\n",
       "      <td>22.510000</td>\n",
       "      <td>62.060001</td>\n",
       "      <td>0.0</td>\n",
       "    </tr>\n",
       "    <tr>\n",
       "      <th>26</th>\n",
       "      <td>2013-08-27 08:13:00</td>\n",
       "      <td>1377580380</td>\n",
       "      <td>666</td>\n",
       "      <td>412.666667</td>\n",
       "      <td>3.416667</td>\n",
       "      <td>22.860001</td>\n",
       "      <td>54.267499</td>\n",
       "      <td>0.0</td>\n",
       "    </tr>\n",
       "    <tr>\n",
       "      <th>27</th>\n",
       "      <td>2013-08-28 13:06:00</td>\n",
       "      <td>1377684360</td>\n",
       "      <td>454</td>\n",
       "      <td>315.500000</td>\n",
       "      <td>3.666667</td>\n",
       "      <td>23.076667</td>\n",
       "      <td>57.995001</td>\n",
       "      <td>0.0</td>\n",
       "    </tr>\n",
       "    <tr>\n",
       "      <th>28</th>\n",
       "      <td>2013-08-27 16:22:00</td>\n",
       "      <td>1377609720</td>\n",
       "      <td>621C</td>\n",
       "      <td>404.272727</td>\n",
       "      <td>5.727273</td>\n",
       "      <td>22.081818</td>\n",
       "      <td>53.833636</td>\n",
       "      <td>0.0</td>\n",
       "    </tr>\n",
       "    <tr>\n",
       "      <th>29</th>\n",
       "      <td>2013-08-29 15:47:00</td>\n",
       "      <td>1377780420</td>\n",
       "      <td>564</td>\n",
       "      <td>251.000000</td>\n",
       "      <td>4.166667</td>\n",
       "      <td>22.855000</td>\n",
       "      <td>59.832502</td>\n",
       "      <td>0.0</td>\n",
       "    </tr>\n",
       "  </tbody>\n",
       "</table>\n",
       "</div>"
      ],
      "text/plain": [
       "          event_ts_min  ts_min_bignt  room         co2        light  \\\n",
       "0  2013-08-26 12:32:00    1377509520   562  238.083333     2.416667   \n",
       "1  2013-08-30 12:22:00    1377854520   776  518.250000     4.400000   \n",
       "2  2013-08-31 01:12:00    1377900720   722  437.250000     4.916667   \n",
       "3  2013-08-28 08:40:00    1377668400   415  484.250000     3.750000   \n",
       "4  2013-08-28 08:34:00    1377668040   746  514.833333     5.000000   \n",
       "5  2013-08-26 03:10:00    1377475800   562  227.583333     3.416667   \n",
       "6  2013-08-30 20:29:00    1377883740   717  444.000000   124.000000   \n",
       "7  2013-08-26 15:43:00    1377520980   734  291.250000     5.583333   \n",
       "8  2013-08-26 14:18:00    1377515880   562  232.000000     2.416667   \n",
       "9  2013-08-28 10:53:00    1377676380   448  362.500000     4.416667   \n",
       "10 2013-08-29 19:09:00    1377792540   424  398.833333     3.500000   \n",
       "11 2013-08-29 10:58:00    1377763080   415  471.500000    17.833333   \n",
       "12 2013-08-30 23:24:00    1377894240   423  454.500000     3.916667   \n",
       "13 2013-08-25 09:20:00    1377411600   724  182.916667     4.833333   \n",
       "14 2013-08-29 18:57:00    1377791820   452  348.166667     2.833333   \n",
       "15 2013-08-28 01:31:00    1377642660   417    0.000000     0.000000   \n",
       "16 2013-08-29 09:24:00    1377757440   752  393.416667     4.333333   \n",
       "17 2013-08-27 17:10:00    1377612600   668  319.250000  2137.916667   \n",
       "18 2013-08-24 10:15:00    1377328500   454  318.583333     3.500000   \n",
       "19 2013-08-29 07:46:00    1377751560   554  485.250000    27.416667   \n",
       "20 2013-08-26 03:57:00    1377478620   722  326.666667     4.500000   \n",
       "21 2013-08-25 14:42:00    1377430920   724  178.750000     5.166667   \n",
       "22 2013-08-25 03:21:00    1377390060   726  381.666667     2.583333   \n",
       "23 2013-08-26 06:57:00    1377489420   621  414.250000     6.166667   \n",
       "24 2013-08-30 17:22:00    1377872520   513  332.166667     5.000000   \n",
       "25 2013-08-30 15:47:00    1377866820   446  485.916667     3.166667   \n",
       "26 2013-08-27 08:13:00    1377580380   666  412.666667     3.416667   \n",
       "27 2013-08-28 13:06:00    1377684360   454  315.500000     3.666667   \n",
       "28 2013-08-27 16:22:00    1377609720  621C  404.272727     5.727273   \n",
       "29 2013-08-29 15:47:00    1377780420   564  251.000000     4.166667   \n",
       "\n",
       "    temperature   humidity  pir  \n",
       "0     21.912500  61.282499  0.0  \n",
       "1     23.419000  58.419999  0.0  \n",
       "2     23.231666  55.070001  0.0  \n",
       "3     23.237500  57.557501  0.0  \n",
       "4     22.293333  60.747501  0.0  \n",
       "5     22.054166  63.600000  0.0  \n",
       "6     22.504167  61.295000  0.0  \n",
       "7     23.279167  54.875000  0.0  \n",
       "8     21.916667  60.862501  0.0  \n",
       "9     23.288334  57.805001  0.0  \n",
       "10    23.516667  58.340001  0.0  \n",
       "11    23.275834  59.827502  0.0  \n",
       "12    22.891666  59.830002  0.0  \n",
       "13    23.397500  55.362501  0.0  \n",
       "14    22.979166  54.225000  0.0  \n",
       "15     0.000000   0.000000  0.0  \n",
       "16    26.320000  48.941666  0.0  \n",
       "17    21.015834  58.320000  0.0  \n",
       "18    23.459999  51.983333  0.0  \n",
       "19    22.871667  61.342500  0.0  \n",
       "20    22.723333  56.332499  0.0  \n",
       "21    23.351667  57.552501  0.0  \n",
       "22    23.908333  51.622500  0.0  \n",
       "23    24.662500  63.254999  0.0  \n",
       "24    22.512500  62.472500  0.0  \n",
       "25    22.510000  62.060001  0.0  \n",
       "26    22.860001  54.267499  0.0  \n",
       "27    23.076667  57.995001  0.0  \n",
       "28    22.081818  53.833636  0.0  \n",
       "29    22.855000  59.832502  0.0  "
      ]
     },
     "execution_count": 53,
     "metadata": {},
     "output_type": "execute_result"
    }
   ],
   "source": [
    "df_source.limit(30).toPandas()"
   ]
  },
  {
   "cell_type": "code",
   "execution_count": 54,
   "id": "e7c45515-95b9-4111-95d7-73377276388b",
   "metadata": {
    "tags": []
   },
   "outputs": [
    {
     "data": {
      "text/plain": [
       "602667"
      ]
     },
     "execution_count": 54,
     "metadata": {},
     "output_type": "execute_result"
    }
   ],
   "source": [
    "df_source.count()"
   ]
  },
  {
   "cell_type": "code",
   "execution_count": 55,
   "id": "8c09d95c-c7e6-47d2-86c4-450c43e305da",
   "metadata": {
    "tags": []
   },
   "outputs": [],
   "source": [
    "df_test3= df_source.where(\"ts_min_bignt == '1377299100' and room == '413'\")"
   ]
  },
  {
   "cell_type": "code",
   "execution_count": 56,
   "id": "e0747775-b2ce-41d7-bba3-3e095a75ecd7",
   "metadata": {
    "tags": []
   },
   "outputs": [
    {
     "name": "stderr",
     "output_type": "stream",
     "text": [
      "                                                                                \r"
     ]
    },
    {
     "data": {
      "text/html": [
       "<div>\n",
       "<style scoped>\n",
       "    .dataframe tbody tr th:only-of-type {\n",
       "        vertical-align: middle;\n",
       "    }\n",
       "\n",
       "    .dataframe tbody tr th {\n",
       "        vertical-align: top;\n",
       "    }\n",
       "\n",
       "    .dataframe thead th {\n",
       "        text-align: right;\n",
       "    }\n",
       "</style>\n",
       "<table border=\"1\" class=\"dataframe\">\n",
       "  <thead>\n",
       "    <tr style=\"text-align: right;\">\n",
       "      <th></th>\n",
       "      <th>event_ts_min</th>\n",
       "      <th>ts_min_bignt</th>\n",
       "      <th>room</th>\n",
       "      <th>co2</th>\n",
       "      <th>light</th>\n",
       "      <th>temperature</th>\n",
       "      <th>humidity</th>\n",
       "      <th>pir</th>\n",
       "    </tr>\n",
       "  </thead>\n",
       "  <tbody>\n",
       "    <tr>\n",
       "      <th>0</th>\n",
       "      <td>2013-08-24 02:05:00</td>\n",
       "      <td>1377299100</td>\n",
       "      <td>413</td>\n",
       "      <td>494.727273</td>\n",
       "      <td>96.555556</td>\n",
       "      <td>23.927778</td>\n",
       "      <td>45.330001</td>\n",
       "      <td>0.0</td>\n",
       "    </tr>\n",
       "  </tbody>\n",
       "</table>\n",
       "</div>"
      ],
      "text/plain": [
       "         event_ts_min  ts_min_bignt room         co2      light  temperature  \\\n",
       "0 2013-08-24 02:05:00    1377299100  413  494.727273  96.555556    23.927778   \n",
       "\n",
       "    humidity  pir  \n",
       "0  45.330001  0.0  "
      ]
     },
     "execution_count": 56,
     "metadata": {},
     "output_type": "execute_result"
    },
    {
     "name": "stderr",
     "output_type": "stream",
     "text": [
      "2023-05-14 14:14:22,839 WARN spark.HeartbeatReceiver: Removing executor driver with no recent heartbeats: 36619675 ms exceeds timeout 120000 ms\n",
      "2023-05-14 14:14:22,852 WARN spark.SparkContext: Killing executors is not supported by current scheduler.\n"
     ]
    }
   ],
   "source": [
    "df_test3.toPandas()"
   ]
  },
  {
   "cell_type": "code",
   "execution_count": null,
   "id": "5928f65d-7a52-42dc-8556-0c35e6247ec2",
   "metadata": {},
   "outputs": [],
   "source": []
  }
 ],
 "metadata": {
  "kernelspec": {
   "display_name": "venvspark",
   "language": "python",
   "name": "venvspark"
  },
  "language_info": {
   "codemirror_mode": {
    "name": "ipython",
    "version": 3
   },
   "file_extension": ".py",
   "mimetype": "text/x-python",
   "name": "python",
   "nbconvert_exporter": "python",
   "pygments_lexer": "ipython3",
   "version": "3.8.12"
  }
 },
 "nbformat": 4,
 "nbformat_minor": 5
}
